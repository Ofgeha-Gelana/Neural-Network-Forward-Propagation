{
 "cells": [
  {
   "cell_type": "markdown",
   "metadata": {},
   "source": [
    "📌 What We'll Do\n",
    "\n",
    "We will build two CNN models:\n",
    "\n",
    "1️⃣ Forward-Only CNN (No Backpropagation)\n",
    "\n",
    "- Uses random weights (not updated).\n",
    "- Only performs forward propagation.\n",
    "- No learning happens.\n",
    "\n",
    "2️⃣ Trained CNN (With Backpropagation)\n",
    "\n",
    "- Uses gradient descent to learn.\n",
    "- Updates weights & improves performance.\n",
    "- Learns from errors over multiple epochs.\n",
    "\n",
    "🔍 Comparison:\n",
    "\n",
    "- Accuracy difference\n",
    "- Loss reduction\n",
    "- Feature learning (visualizing feature maps)"
   ]
  },
  {
   "cell_type": "markdown",
   "metadata": {},
   "source": [
    "#### Import Libraries"
   ]
  },
  {
   "cell_type": "code",
   "execution_count": 1,
   "metadata": {},
   "outputs": [],
   "source": [
    "import torch\n",
    "import torch.nn as nn\n",
    "import torch.optim as optim\n",
    "import torch.nn.functional as F\n",
    "import torchvision.transforms as transforms\n",
    "import torchvision.datasets as datasets\n",
    "from torch.utils.data import DataLoader\n",
    "import matplotlib.pyplot as plt\n",
    "import numpy as np\n"
   ]
  },
  {
   "cell_type": "markdown",
   "metadata": {},
   "source": [
    "### Load the MNIST Dataset"
   ]
  },
  {
   "cell_type": "markdown",
   "metadata": {},
   "source": [
    "##### Data transformation: Convert images to tensors & normalize pixel values"
   ]
  },
  {
   "cell_type": "code",
   "execution_count": 2,
   "metadata": {},
   "outputs": [],
   "source": [
    "transform = transforms.Compose([\n",
    "    transforms.ToTensor(),  # Convert images to tensor format\n",
    "    transforms.Normalize((0.5,), (0.5,))  # Normalize pixel values (-1 to 1)\n",
    "])"
   ]
  },
  {
   "cell_type": "markdown",
   "metadata": {},
   "source": [
    "##### Load MNIST dataset (Handwritten Digits)"
   ]
  },
  {
   "cell_type": "code",
   "execution_count": 3,
   "metadata": {},
   "outputs": [
    {
     "name": "stderr",
     "output_type": "stream",
     "text": [
      "100.0%\n",
      "100.0%\n",
      "100.0%\n",
      "100.0%\n"
     ]
    }
   ],
   "source": [
    "\n",
    "train_data = datasets.MNIST(root=\"./data\", train=True, transform=transform, download=True)\n",
    "test_data = datasets.MNIST(root=\"./data\", train=False, transform=transform, download=True)\n"
   ]
  },
  {
   "cell_type": "markdown",
   "metadata": {},
   "source": [
    "##### Create Data Loaders"
   ]
  },
  {
   "cell_type": "code",
   "execution_count": 4,
   "metadata": {},
   "outputs": [],
   "source": [
    "train_loader = DataLoader(train_data, batch_size=64, shuffle=True)\n",
    "test_loader = DataLoader(test_data, batch_size=64, shuffle=False)"
   ]
  },
  {
   "cell_type": "code",
   "execution_count": 5,
   "metadata": {},
   "outputs": [
    {
     "name": "stdout",
     "output_type": "stream",
     "text": [
      "Training samples: 60000, Test samples: 10000\n"
     ]
    }
   ],
   "source": [
    "# Print dataset size\n",
    "print(f\"Training samples: {len(train_data)}, Test samples: {len(test_data)}\")"
   ]
  },
  {
   "cell_type": "markdown",
   "metadata": {},
   "source": [
    "### Define the CNN Architecture"
   ]
  },
  {
   "cell_type": "code",
   "execution_count": 6,
   "metadata": {},
   "outputs": [],
   "source": [
    "class CNN(nn.Module):\n",
    "    def __init__(self):\n",
    "        super(CNN, self).__init__()\n",
    "        self.conv1 = nn.Conv2d(1, 16, kernel_size=3, padding=1)  # Conv layer 1\n",
    "        self.conv2 = nn.Conv2d(16, 32, kernel_size=3, padding=1)  # Conv layer 2\n",
    "        self.pool = nn.MaxPool2d(2, 2)  # Pooling layer (reduces size)\n",
    "        self.fc1 = nn.Linear(32 * 7 * 7, 128)  # Fully connected layer 1\n",
    "        self.fc2 = nn.Linear(128, 10)  # Fully connected layer 2 (10 classes)\n",
    "\n",
    "    def forward(self, x):\n",
    "        x = self.pool(F.relu(self.conv1(x)))  # Conv1 -> ReLU -> Pooling\n",
    "        x = self.pool(F.relu(self.conv2(x)))  # Conv2 -> ReLU -> Pooling\n",
    "        x = x.view(-1, 32 * 7 * 7)  # Flatten feature maps\n",
    "        x = F.relu(self.fc1(x))  # Fully connected layer\n",
    "        x = self.fc2(x)  # Output layer\n",
    "        return x\n"
   ]
  },
  {
   "cell_type": "markdown",
   "metadata": {},
   "source": [
    "#### Forward-Only CNN (No Backpropagation)"
   ]
  },
  {
   "cell_type": "code",
   "execution_count": 7,
   "metadata": {},
   "outputs": [],
   "source": [
    "def evaluate_forward_only(model, loader):\n",
    "    model.eval()  # Set model to evaluation mode\n",
    "    correct = 0\n",
    "    total = 0\n",
    "    with torch.no_grad():  # No gradient updates\n",
    "        for images, labels in loader:\n",
    "            outputs = model(images)\n",
    "            _, predicted = torch.max(outputs, 1)\n",
    "            total += labels.size(0)\n",
    "            correct += (predicted == labels).sum().item()\n",
    "    \n",
    "    accuracy = 100 * correct / total\n",
    "    print(f\"Forward-Only CNN Accuracy: {accuracy:.2f}%\")\n",
    "    return accuracy"
   ]
  },
  {
   "cell_type": "markdown",
   "metadata": {},
   "source": [
    "##### Initialize CNN with random weights\n"
   ]
  },
  {
   "cell_type": "code",
   "execution_count": 8,
   "metadata": {},
   "outputs": [],
   "source": [
    "cnn_forward_only = CNN()"
   ]
  },
  {
   "cell_type": "markdown",
   "metadata": {},
   "source": [
    "##### Evaluate without training"
   ]
  },
  {
   "cell_type": "code",
   "execution_count": 9,
   "metadata": {},
   "outputs": [
    {
     "name": "stdout",
     "output_type": "stream",
     "text": [
      "Forward-Only CNN Accuracy: 9.12%\n"
     ]
    }
   ],
   "source": [
    "\n",
    "forward_accuracy = evaluate_forward_only(cnn_forward_only, test_loader)"
   ]
  },
  {
   "cell_type": "markdown",
   "metadata": {},
   "source": [
    "### Train CNN with Backpropagation"
   ]
  },
  {
   "cell_type": "code",
   "execution_count": 10,
   "metadata": {},
   "outputs": [],
   "source": [
    "# Initialize model\n",
    "cnn_trained = CNN()\n",
    "criterion = nn.CrossEntropyLoss()  # Loss function\n",
    "optimizer = optim.Adam(cnn_trained.parameters(), lr=0.001)  # Adam optimizer"
   ]
  },
  {
   "cell_type": "code",
   "execution_count": 11,
   "metadata": {},
   "outputs": [
    {
     "name": "stdout",
     "output_type": "stream",
     "text": [
      "Epoch 1/5, Loss: 0.2036\n",
      "Epoch 2/5, Loss: 0.0537\n",
      "Epoch 3/5, Loss: 0.0380\n",
      "Epoch 4/5, Loss: 0.0296\n",
      "Epoch 5/5, Loss: 0.0229\n"
     ]
    }
   ],
   "source": [
    "# Training loop\n",
    "epochs = 5\n",
    "loss_history = []\n",
    "for epoch in range(epochs):\n",
    "    running_loss = 0.0\n",
    "    for images, labels in train_loader:\n",
    "        optimizer.zero_grad()  # Reset gradients\n",
    "        outputs = cnn_trained(images)  # Forward pass\n",
    "        loss = criterion(outputs, labels)  # Compute loss\n",
    "        loss.backward()  # Backpropagation\n",
    "        optimizer.step()  # Update weights\n",
    "        running_loss += loss.item()\n",
    "    \n",
    "    avg_loss = running_loss / len(train_loader)\n",
    "    loss_history.append(avg_loss)\n",
    "    print(f\"Epoch {epoch+1}/{epochs}, Loss: {avg_loss:.4f}\")"
   ]
  },
  {
   "cell_type": "code",
   "execution_count": 12,
   "metadata": {},
   "outputs": [
    {
     "name": "stdout",
     "output_type": "stream",
     "text": [
      "Forward-Only CNN Accuracy: 98.89%\n"
     ]
    }
   ],
   "source": [
    "# Evaluate trained model\n",
    "trained_accuracy = evaluate_forward_only(cnn_trained, test_loader)"
   ]
  },
  {
   "cell_type": "markdown",
   "metadata": {},
   "source": [
    "#### Compare Accuracy & Loss"
   ]
  },
  {
   "cell_type": "code",
   "execution_count": 13,
   "metadata": {},
   "outputs": [
    {
     "data": {
      "image/png": "[encoded data removed]",
      "text/plain": [
       "<Figure size 640x480 with 1 Axes>"
      ]
     },
     "metadata": {},
     "output_type": "display_data"
    },
    {
     "name": "stdout",
     "output_type": "stream",
     "text": [
      "Forward-Only CNN Accuracy: 9.12%\n",
      "Trained CNN Accuracy: 98.89%\n"
     ]
    }
   ],
   "source": [
    "# Plot loss reduction over epochs\n",
    "plt.plot(range(1, epochs+1), loss_history, marker='o', linestyle='-', color='blue')\n",
    "plt.xlabel(\"Epochs\")\n",
    "plt.ylabel(\"Loss\")\n",
    "plt.title(\"Loss Reduction Over Epochs (With Backprop)\")\n",
    "plt.show()\n",
    "\n",
    "# Print accuracy comparison\n",
    "print(f\"Forward-Only CNN Accuracy: {forward_accuracy:.2f}%\")\n",
    "print(f\"Trained CNN Accuracy: {trained_accuracy:.2f}%\")"
   ]
  },
  {
   "cell_type": "markdown",
   "metadata": {},
   "source": [
    "##### Visualize Feature Learning"
   ]
  },
  {
   "cell_type": "code",
   "execution_count": 14,
   "metadata": {},
   "outputs": [],
   "source": [
    "def visualize_features(model, image):\n",
    "    image = image.unsqueeze(0)  # Add batch dimension\n",
    "    fig, axes = plt.subplots(1, 2, figsize=(10, 5))\n",
    "\n",
    "    # Conv1 Features\n",
    "    with torch.no_grad():\n",
    "        conv1_output = model.conv1(image).detach().numpy()[0]\n",
    "    axes[0].imshow(conv1_output[0], cmap=\"gray\")\n",
    "    axes[0].set_title(\"Conv1 Features\")\n",
    "\n",
    "    # Conv2 Features\n",
    "    with torch.no_grad():\n",
    "        conv2_input = model.pool(F.relu(model.conv1(image)))\n",
    "        conv2_output = model.conv2(conv2_input).detach().numpy()[0]\n",
    "    axes[1].imshow(conv2_output[0], cmap=\"gray\")\n",
    "    axes[1].set_title(\"Conv2 Features\")\n",
    "\n",
    "    plt.show()\n",
    "\n"
   ]
  },
  {
   "cell_type": "code",
   "execution_count": 15,
   "metadata": {},
   "outputs": [
    {
     "data": {
      "image/png": "[encoded data removed]",
      "text/plain": [
       "<Figure size 1000x500 with 2 Axes>"
      ]
     },
     "metadata": {},
     "output_type": "display_data"
    },
    {
     "data": {
      "image/png": "[encoded data removed]",
      "text/plain": [
       "<Figure size 1000x500 with 2 Axes>"
      ]
     },
     "metadata": {},
     "output_type": "display_data"
    }
   ],
   "source": [
    "# Pick an image from dataset\n",
    "sample_image, _ = train_data[0]\n",
    "visualize_features(cnn_forward_only, sample_image)  # Before Training\n",
    "visualize_features(cnn_trained, sample_image)  # After Training\n"
   ]
  }
 ],
 "metadata": {
  "kernelspec": {
   "display_name": "ne",
   "language": "python",
   "name": "python3"
  },
  "language_info": {
   "codemirror_mode": {
    "name": "ipython",
    "version": 3
   },
   "file_extension": ".py",
   "mimetype": "text/x-python",
   "name": "python",
   "nbconvert_exporter": "python",
   "pygments_lexer": "ipython3",
   "version": "3.12.3"
  }
 },
 "nbformat": 4,
 "nbformat_minor": 2
}
